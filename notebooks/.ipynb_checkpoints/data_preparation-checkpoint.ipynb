{
 "cells": [
  {
   "cell_type": "markdown",
   "id": "a2a2bd98-e7dd-4f07-baed-d44a9c345bb6",
   "metadata": {},
   "source": [
    "# **Proyecto del Curso: Clasificación de aptitud para la producción de Café en el departamento del Huila**\n",
    "### Universidad Nacional de Colombia\n",
    "### Programación SIG\n",
    "### Integrantes:\n",
    "* Cristian Santiago Acuña Ramírez\n",
    "* Avdoni Sánchez Reinoso\n",
    "    - Estudiantes de Maestría en Geomática\n",
    "\n",
    "## 🎯 Objerivo: \n",
    "\n",
    "📜 El presente cuaderno de trabajo en JupyterLab tiene como objetivo principal identificar y clasificar las áreas con mayor potencial productivo para el cultivo de café, a partir de un análisis espacial y temático de aptitud del suelo. Para ello, se estructura un flujo de trabajo dividido en varias secciones que permiten una evaluación progresiva y fundamentada. Inicialmente, se selecciona el departamento con mayor relevancia en términos de producción cafetera a nivel nacional. Posteriormente, se realiza una clasificación preliminar de la aptitud del suelo en tres categorías (Alta, Media y Baja), integrando variables agronómicas clave. \n",
    "\n",
    "📊 A esta clasificación se le incorpora un análisis logístico que considera aspectos como el acceso a la red vial, la cercanía a estaciones climáticas y la disponibilidad de mano de obra, con el fin de ajustar la aptitud en función de las condiciones reales de acceso y operación. Finalmente, se excluyen aquellas áreas con restricciones legales o ambientales —como zonas de conservación, áreas protegidas o territorios con uso restringido—, con el propósito de garantizar que las zonas identificadas sean viables desde el punto de vista normativo. El resultado final se representa cartográficamente, consolidando una evaluación espacial de la aptitud del suelo para el cultivo de café en el departamento seleccionado."
   ]
  },
  {
   "cell_type": "markdown",
   "id": "627dac9a-6f92-41dc-8871-d3eae59feb2a",
   "metadata": {},
   "source": [
    "### **1. Intalación de librerías.** \n",
    "En esta sección se integra el conjunto de librerías que se utilizarán para este proyecto."
   ]
  },
  {
   "cell_type": "code",
   "execution_count": 187,
   "id": "5b264a32-7969-43c8-8b89-e10646a7eea0",
   "metadata": {},
   "outputs": [
    {
     "data": {
      "text/html": [
       "\n",
       "            <style>\n",
       "                .geemap-dark {\n",
       "                    --jp-widgets-color: white;\n",
       "                    --jp-widgets-label-color: white;\n",
       "                    --jp-ui-font-color1: white;\n",
       "                    --jp-layout-color2: #454545;\n",
       "                    background-color: #383838;\n",
       "                }\n",
       "\n",
       "                .geemap-dark .jupyter-button {\n",
       "                    --jp-layout-color3: #383838;\n",
       "                }\n",
       "\n",
       "                .geemap-colab {\n",
       "                    background-color: var(--colab-primary-surface-color, white);\n",
       "                }\n",
       "\n",
       "                .geemap-colab .jupyter-button {\n",
       "                    --jp-layout-color3: var(--colab-primary-surface-color, white);\n",
       "                }\n",
       "            </style>\n",
       "            "
      ],
      "text/plain": [
       "<IPython.core.display.HTML object>"
      ]
     },
     "metadata": {},
     "output_type": "display_data"
    }
   ],
   "source": [
    "# ========================\n",
    "# 📦 Importación de librerías\n",
    "# ========================\n",
    "\n",
    "# -- Importaciones estándar --\n",
    "import os  # Interacción con el sistema operativo (rutas, carpetas, etc.)\n",
    "import glob  # Búsqueda de archivos que cumplan un patrón específico\n",
    "import numpy as np  # Operaciones matemáticas y manejo eficiente de arrays\n",
    "import pandas as pd  # Herramientas para análisis y manipulación de datos tabulares\n",
    "\n",
    "# -- Librerías de visualización --\n",
    "import matplotlib.pyplot as plt  # Librería principal para crear gráficos y visualizaciones\n",
    "import matplotlib.cm as cm  # Acceso a mapas de colores predefinidos para visualizaciones\n",
    "import matplotlib.colors as colors  # Definición y manejo de mapas de colores personalizados\n",
    "import matplotlib.patches as mpatches  # Crear objetos gráficos como leyendas personalizadas o símbolos\n",
    "\n",
    "# -- Librerías geoespaciales --\n",
    "import geopandas as gpd  # Permite trabajar con datos geoespaciales como si fueran DataFrames de pandas\n",
    "import fiona  # Lectura y escritura de archivos geoespaciales (shapefiles, geopackage, etc.)\n",
    "import shapely  # Manipulación y análisis de geometrías (puntos, líneas, polígonos)\n",
    "import contextily as cx  # Agrega mapas base (tiles) a gráficos geoespaciales (como OpenStreetMap)\n",
    "import contextily as ctx  # (Alias alternativo) para agregar mapas base en sistemas de coordenadas proyectadas\n",
    "\n",
    "# -- Earth Engine y análisis raster --\n",
    "import ee  # Earth Engine Python API: acceso a datasets y análisis de Google Earth Engine\n",
    "import geemap  # Simplifica la interacción con Earth Engine y permite exportar imágenes ráster\n",
    "import rasterio  # Lectura, escritura y manipulación de archivos ráster con metadatos geoespaciales\n",
    "import rasterio.plot  # Funciones para visualizar datos ráster (como show() y show_hist())\n",
    "import rasterstats  # Estadísticas zonales sobre ráster usando geometrías vectoriales\n",
    "from rasterio.plot import show  # Función para visualizar rásters desde rasterio\n",
    "from rasterio.io import MemoryFile  # Permite trabajar con archivos ráster en memoria\n",
    "from rasterio.merge import merge  # Combina múltiples rásters en uno solo\n",
    "from rasterio import Affine  # Manejo de transformaciones espaciales en ráster\n",
    "from rasterio.crs import CRS  # Definición y transformación del sistema de referencia de coordenadas\n",
    "from rasterio.transform import from_bounds  # Crear transformaciones espaciales a partir de límites geográficos\n",
    "\n",
    "# -- IPython y visualización en Jupyter --\n",
    "from IPython.display import display, HTML  # Mostrar objetos HTML en notebooks\n",
    "\n",
    "# -- Matplotlib avanzado --\n",
    "from matplotlib.lines import Line2D  # Crear y personalizar líneas en leyendas o anotaciones\n",
    "from matplotlib.colors import Normalize  # Normaliza valores para mapas de color\n",
    "\n",
    "# -- Shapely geométrico --\n",
    "from shapely.geometry import Point  # Crear objetos de tipo punto\n",
    "from shapely.ops import unary_union  # Une múltiples geometrías en una sola\n",
    "from shapely.ops import nearest_points  # Encuentra el punto más cercano entre dos geometrías\n",
    "\n",
    "# -- Manejo de archivos --\n",
    "from pathlib import Path  # Manejo orientado a objetos de rutas de archivos\n",
    "\n",
    "# -- Funciones de fuente --\n",
    "from src.clasificacion_aptitud import (clasificar_profundidad, clasificar_textura, clasificar_drenaje, clasificar_temperatura, clasificar_precipitacion, clasificar_pendiente, clasificar_distancia, clasificar_distancia_estacion, calcular_apt_final)\n",
    "\n",
    "from src.export_cell import (export_cell, export_cell_Clim)\n",
    "\n",
    "# ========================\n",
    "# 📁 Creación de carpeta para guardar figuras\n",
    "# ========================\n",
    "os.makedirs(\"Results/Maps\", exist_ok=True)  # Crea una carpeta para guardar figuras, si no existe"
   ]
  },
  {
   "cell_type": "markdown",
   "id": "f13ad075-dcee-4b57-a154-b82a0b1fc52f",
   "metadata": {},
   "source": [
    "### **2. Carga de archivos de entrada (Preparación de los datos)**\n",
    "#### **2.1 Rutas de entrada:** \n",
    "* En la siguiente sección se definen las rutas de acceso para los diferentes insumos que se van a utilizar en este proyecto:"
   ]
  },
  {
   "cell_type": "code",
   "execution_count": 188,
   "id": "89ea9c6c-c394-4c27-a019-b6301b9b2c51",
   "metadata": {
    "scrolled": true
   },
   "outputs": [
    {
     "data": {
      "text/html": [
       "\n",
       "            <style>\n",
       "                .geemap-dark {\n",
       "                    --jp-widgets-color: white;\n",
       "                    --jp-widgets-label-color: white;\n",
       "                    --jp-ui-font-color1: white;\n",
       "                    --jp-layout-color2: #454545;\n",
       "                    background-color: #383838;\n",
       "                }\n",
       "\n",
       "                .geemap-dark .jupyter-button {\n",
       "                    --jp-layout-color3: #383838;\n",
       "                }\n",
       "\n",
       "                .geemap-colab {\n",
       "                    background-color: var(--colab-primary-surface-color, white);\n",
       "                }\n",
       "\n",
       "                .geemap-colab .jupyter-button {\n",
       "                    --jp-layout-color3: var(--colab-primary-surface-color, white);\n",
       "                }\n",
       "            </style>\n",
       "            "
      ],
      "text/plain": [
       "<IPython.core.display.HTML object>"
      ]
     },
     "metadata": {},
     "output_type": "display_data"
    },
    {
     "name": "stdout",
     "output_type": "stream",
     "text": [
      "Titulos de archivo de Vias Nacionales:\n",
      " ['Via', 'Puente_L', 'Puente_P', 'Tunel', 'VFerre', 'LVia', 'SVial', 'T_1_DirtyAreas', 'T_1_PointErrors', 'T_1_LineErrors', 'T_1_PolyErrors'] \n",
      "\n",
      "Titulos de archivo de Suelos Huila:\n",
      " ['SUELOS_HUILA_100K_VF_20191001', 'T_1_DirtyAreas', 'T_1_PointErrors', 'T_1_LineErrors', 'T_1_PolyErrors']\n",
      "['Info_suelos_huila']\n"
     ]
    }
   ],
   "source": [
    "# Rutas de los archivos\n",
    "\n",
    "root_folder=r\"/database\" # Ruta de carpeta general\n",
    "\n",
    "# Rutas a los archivos de entrada (Insumos)\n",
    "shp_mun = root_folder + '/municipios/municipios_colombia.shp' # Shape de Municipios de Colombia\n",
    "shp_frnt_agr = root_folder + '/frontera_agricola_abr2024/Frontera_Agricola_Abr2024.shp' # Shape de Fronteras Agrícolas\n",
    "shp_runap = root_folder + '/runap/runap2Polygon.shp' # Shape Runap\n",
    "CSV_inf_suel_hul = root_folder + '/Info_suelos_huila.csv' # Información adicional de suelos del huila\n",
    "CSV_EVA = root_folder + '/EVAs_2019_2024.xlsx' # CSV de Evaluaciones Agropecuarias de 2019 - 2024\n",
    "CSV_EST = root_folder + '/Catalogo_Estaciones_IDEAM.csv' # Estaciones Meteorológicas registradas por el IDEAM\n",
    "gbd_vias = root_folder + '/red_vial.gdb'  # archivo tipo GeoPackage de Vías Nacionales\n",
    "gbd_suel_huil = root_folder + '/SUELOS_HUILA_100K.gdb'  # archivo tipo GeoPackage de Características de los suelos del Huila\n",
    "\n",
    "print(\"Titulos de archivo de Vias Nacionales:\\n\", fiona.listlayers(gbd_vias), \"\\n\")\n",
    "print(\"Titulos de archivo de Suelos Huila:\\n\", fiona.listlayers(gbd_suel_huil))\n",
    "print(fiona.listlayers(CSV_inf_suel_hul))"
   ]
  },
  {
   "cell_type": "markdown",
   "id": "a9fbbd3f-e752-4106-9aa2-857dce03e89d",
   "metadata": {},
   "source": [
    "#### **2.2 Lectura, corrección y proyección de datos:** \n",
    "* En la siguiente sección de código se leen los archivos, se proyectan y en el caso de las estaciones se convierte en tipo GeoDataFrame."
   ]
  },
  {
   "cell_type": "code",
   "execution_count": 3,
   "id": "e29d31a8-26fa-4766-a950-56944361bf0f",
   "metadata": {},
   "outputs": [
    {
     "data": {
      "text/html": [
       "\n",
       "            <style>\n",
       "                .geemap-dark {\n",
       "                    --jp-widgets-color: white;\n",
       "                    --jp-widgets-label-color: white;\n",
       "                    --jp-ui-font-color1: white;\n",
       "                    --jp-layout-color2: #454545;\n",
       "                    background-color: #383838;\n",
       "                }\n",
       "\n",
       "                .geemap-dark .jupyter-button {\n",
       "                    --jp-layout-color3: #383838;\n",
       "                }\n",
       "\n",
       "                .geemap-colab {\n",
       "                    background-color: var(--colab-primary-surface-color, white);\n",
       "                }\n",
       "\n",
       "                .geemap-colab .jupyter-button {\n",
       "                    --jp-layout-color3: var(--colab-primary-surface-color, white);\n",
       "                }\n",
       "            </style>\n",
       "            "
      ],
      "text/plain": [
       "<IPython.core.display.HTML object>"
      ]
     },
     "metadata": {},
     "output_type": "display_data"
    },
    {
     "name": "stdout",
     "output_type": "stream",
     "text": [
      "Estaciones IDEAM cargadas: (8973, 14)\n"
     ]
    },
    {
     "data": {
      "text/html": [
       "<div>\n",
       "<style scoped>\n",
       "    .dataframe tbody tr th:only-of-type {\n",
       "        vertical-align: middle;\n",
       "    }\n",
       "\n",
       "    .dataframe tbody tr th {\n",
       "        vertical-align: top;\n",
       "    }\n",
       "\n",
       "    .dataframe thead th {\n",
       "        text-align: right;\n",
       "    }\n",
       "</style>\n",
       "<table border=\"1\" class=\"dataframe\">\n",
       "  <thead>\n",
       "    <tr style=\"text-align: right;\">\n",
       "      <th></th>\n",
       "      <th>Codigo</th>\n",
       "      <th>Nombre</th>\n",
       "      <th>Categoria</th>\n",
       "      <th>Estado</th>\n",
       "      <th>Departamento</th>\n",
       "      <th>Municipio</th>\n",
       "      <th>Ubicación</th>\n",
       "      <th>Altitud</th>\n",
       "      <th>Fecha_instalacion</th>\n",
       "      <th>Fecha_suspension</th>\n",
       "      <th>Corriente</th>\n",
       "      <th>lat</th>\n",
       "      <th>lon</th>\n",
       "      <th>geometry</th>\n",
       "    </tr>\n",
       "  </thead>\n",
       "  <tbody>\n",
       "    <tr>\n",
       "      <th>0</th>\n",
       "      <td>52057100</td>\n",
       "      <td>RUMICHACA - AUT [52057100]</td>\n",
       "      <td>Limnigráfica</td>\n",
       "      <td>Activa</td>\n",
       "      <td>Nariño</td>\n",
       "      <td>Ipiales</td>\n",
       "      <td>(0.81378611, -77.66197778)</td>\n",
       "      <td>2582</td>\n",
       "      <td>2016-11-15</td>\n",
       "      <td>NaN</td>\n",
       "      <td>Guaitara</td>\n",
       "      <td>0.813786</td>\n",
       "      <td>-77.661978</td>\n",
       "      <td>POINT (4480921.418 1648261.853)</td>\n",
       "    </tr>\n",
       "    <tr>\n",
       "      <th>1</th>\n",
       "      <td>52055170</td>\n",
       "      <td>LA JOSEFINA - AUT [52055170]</td>\n",
       "      <td>Climática Principal</td>\n",
       "      <td>Activa</td>\n",
       "      <td>Nariño</td>\n",
       "      <td>Contadero</td>\n",
       "      <td>(0.93030556, -77.49119444)</td>\n",
       "      <td>2450</td>\n",
       "      <td>2005-12-10</td>\n",
       "      <td>NaN</td>\n",
       "      <td>Guaitara</td>\n",
       "      <td>0.930306</td>\n",
       "      <td>-77.491194</td>\n",
       "      <td>POINT (4499992.408 1661153.867)</td>\n",
       "    </tr>\n",
       "    <tr>\n",
       "      <th>2</th>\n",
       "      <td>52055220</td>\n",
       "      <td>EL PARAISO - AUT [52055220]</td>\n",
       "      <td>Climática Principal</td>\n",
       "      <td>Activa</td>\n",
       "      <td>Nariño</td>\n",
       "      <td>Túquerres</td>\n",
       "      <td>(1.07061111, -77.63688889)</td>\n",
       "      <td>3120</td>\n",
       "      <td>2004-03-01</td>\n",
       "      <td>NaN</td>\n",
       "      <td>Guaitara</td>\n",
       "      <td>1.070611</td>\n",
       "      <td>-77.636889</td>\n",
       "      <td>POINT (4483759.028 1676727.973)</td>\n",
       "    </tr>\n",
       "    <tr>\n",
       "      <th>3</th>\n",
       "      <td>44015070</td>\n",
       "      <td>EL PEPINO - AUT [44015070]</td>\n",
       "      <td>Climática Principal</td>\n",
       "      <td>Activa</td>\n",
       "      <td>Putumayo</td>\n",
       "      <td>Mocoa</td>\n",
       "      <td>(1.08288889, -76.66711111)</td>\n",
       "      <td>760</td>\n",
       "      <td>2005-11-11</td>\n",
       "      <td>NaN</td>\n",
       "      <td>Guaitara</td>\n",
       "      <td>1.082889</td>\n",
       "      <td>-76.667111</td>\n",
       "      <td>POINT (4591897.597 1677940.612)</td>\n",
       "    </tr>\n",
       "    <tr>\n",
       "      <th>4</th>\n",
       "      <td>48015040</td>\n",
       "      <td>PUERTO NARINO - AUT [48015040]</td>\n",
       "      <td>Climática Principal</td>\n",
       "      <td>Activa</td>\n",
       "      <td>Amazonas</td>\n",
       "      <td>Puerto Nariño</td>\n",
       "      <td>(-3.78030556, -70.36263889)</td>\n",
       "      <td>158</td>\n",
       "      <td>2005-07-19</td>\n",
       "      <td>NaN</td>\n",
       "      <td>Amazonas</td>\n",
       "      <td>-3.780306</td>\n",
       "      <td>-70.362639</td>\n",
       "      <td>POINT (5292824.016 1139928.729)</td>\n",
       "    </tr>\n",
       "  </tbody>\n",
       "</table>\n",
       "</div>"
      ],
      "text/plain": [
       "     Codigo                          Nombre            Categoria  Estado  \\\n",
       "0  52057100      RUMICHACA - AUT [52057100]         Limnigráfica  Activa   \n",
       "1  52055170    LA JOSEFINA - AUT [52055170]  Climática Principal  Activa   \n",
       "2  52055220     EL PARAISO - AUT [52055220]  Climática Principal  Activa   \n",
       "3  44015070      EL PEPINO - AUT [44015070]  Climática Principal  Activa   \n",
       "4  48015040  PUERTO NARINO - AUT [48015040]  Climática Principal  Activa   \n",
       "\n",
       "  Departamento      Municipio                    Ubicación  Altitud  \\\n",
       "0       Nariño        Ipiales   (0.81378611, -77.66197778)     2582   \n",
       "1       Nariño      Contadero   (0.93030556, -77.49119444)     2450   \n",
       "2       Nariño      Túquerres   (1.07061111, -77.63688889)     3120   \n",
       "3     Putumayo          Mocoa   (1.08288889, -76.66711111)      760   \n",
       "4     Amazonas  Puerto Nariño  (-3.78030556, -70.36263889)      158   \n",
       "\n",
       "  Fecha_instalacion Fecha_suspension Corriente       lat        lon  \\\n",
       "0        2016-11-15              NaN  Guaitara  0.813786 -77.661978   \n",
       "1        2005-12-10              NaN  Guaitara  0.930306 -77.491194   \n",
       "2        2004-03-01              NaN  Guaitara  1.070611 -77.636889   \n",
       "3        2005-11-11              NaN  Guaitara  1.082889 -76.667111   \n",
       "4        2005-07-19              NaN  Amazonas -3.780306 -70.362639   \n",
       "\n",
       "                          geometry  \n",
       "0  POINT (4480921.418 1648261.853)  \n",
       "1  POINT (4499992.408 1661153.867)  \n",
       "2  POINT (4483759.028 1676727.973)  \n",
       "3  POINT (4591897.597 1677940.612)  \n",
       "4  POINT (5292824.016 1139928.729)  "
      ]
     },
     "metadata": {},
     "output_type": "display_data"
    },
    {
     "name": "stdout",
     "output_type": "stream",
     "text": [
      "Municipios: (1122, 92)\n",
      "Red vial: (112322, 9)\n",
      "EVAs:\n",
      "    Código Dane departamento Departamento COD_MUNI Municipio  \\\n",
      "0                         5    Antioquia    05001  Medellín   \n",
      "1                         5    Antioquia    05001  Medellín   \n",
      "2                         5    Antioquia    05001  Medellín   \n",
      "3                         5    Antioquia    05001  Medellín   \n",
      "4                         5    Antioquia    05001  Medellín   \n",
      "\n",
      "       Desagregación cultivo   Cultivo Ciclo del cultivo Grupo cultivo  \\\n",
      "0  Aguacate demás variedades  Aguacate        Permanente      Frutales   \n",
      "1  Aguacate demás variedades  Aguacate        Permanente      Frutales   \n",
      "2  Aguacate demás variedades  Aguacate        Permanente      Frutales   \n",
      "3  Aguacate demás variedades  Aguacate        Permanente      Frutales   \n",
      "4  Aguacate demás variedades  Aguacate        Permanente      Frutales   \n",
      "\n",
      "         Subgrupo   Año Periodo  Área sembrada (ha)  Área cosechada (ha)  \\\n",
      "0  Demás frutales  2019    2019               24.00                23.00   \n",
      "1  Demás frutales  2020    2020                8.52                 3.52   \n",
      "2  Demás frutales  2021    2021                8.52                 4.52   \n",
      "3  Demás frutales  2022    2022               17.17                 8.52   \n",
      "4  Demás frutales  2023    2023               14.97                 8.52   \n",
      "\n",
      "   Producción (t)  Rendimiento (t/ha) Nombre científico del cultivo  \\\n",
      "0          138.00                 6.0              Persea americana   \n",
      "1           21.12                 6.0              Persea americana   \n",
      "2           27.12                 6.0              Persea americana   \n",
      "3           51.12                 6.0              Persea americana   \n",
      "4           51.12                 6.0              Persea americana   \n",
      "\n",
      "   Código del cultivo Estado físico del cultivo  \n",
      "0             2040299                 En fresco  \n",
      "1             2040299                 En fresco  \n",
      "2             2040299                 En fresco  \n",
      "3             2040299                 En fresco  \n",
      "4             2040299                 En fresco  \n",
      "Inf Suelos:\n",
      "    UCS             Profundidad Drenaje Textura\n",
      "0  MEA             Superficial   Bueno       A\n",
      "1  MHA  Moderadamente profundo   Bueno      FA\n",
      "2  MHB                Profundo   Bueno     FAr\n",
      "3  MHC                Profundo   Bueno      FA\n",
      "4  MKA  Moderadamente profundo   Bueno      FA\n"
     ]
    }
   ],
   "source": [
    "# Se cargan y se proyectan las entradas que son de tipo espacial.\n",
    "\n",
    "# 2.2.1 Municipios\n",
    "gdf_mun = gpd.read_file(shp_mun)\n",
    "if gdf_mun.crs is None:\n",
    "    gdf_mun.set_crs(epsg=4326, inplace=True)\n",
    "gdf_mun = gdf_mun.to_crs(epsg=9377)\n",
    "\n",
    "# 2.2.2 Frontera agrícola\n",
    "gdf_frnt_agr = gpd.read_file(shp_frnt_agr)\n",
    "if gdf_frnt_agr.crs is None:\n",
    "    gdf_frnt_agr.set_crs(epsg=4326, inplace=True)\n",
    "gdf_frnt_agr = gdf_frnt_agr.to_crs(epsg=9377)\n",
    "\n",
    "# 2.2.3 Runap\n",
    "gdf_runap = gpd.read_file(shp_runap, encoding='latin1')\n",
    "if gdf_runap.crs is None:\n",
    "    gdf_runap.set_crs(epsg=4326, inplace=True)\n",
    "gdf_runap = gdf_runap.to_crs(epsg=9377)\n",
    "\n",
    "# 2.2.4 Suelos Huila en escala 100K\n",
    "gdf_suelos = gpd.read_file(gbd_suel_huil, layer=\"SUELOS_HUILA_100K_VF_20191001\")\n",
    "if gdf_suelos.crs is None:\n",
    "    gdf_suelos.set_crs(epsg=4326, inplace=True)\n",
    "gdf_suelos = gdf_suelos.to_crs(epsg=9377)\n",
    "\n",
    "# 2.2.5 Cargar red vial (capa \"Via\" dentro del GeoPackage)\n",
    "vias_col = gpd.read_file(gbd_vias, layer=\"Via\")\n",
    "if vias_col.crs is None:\n",
    "    vias_col.set_crs(epsg=4326, inplace=True)\n",
    "vias_col = vias_col.to_crs(epsg=9377)\n",
    "\n",
    "# 2.2.6 Carga de archivo CSV de Información Adicional de suelos\n",
    "\n",
    "df_inf_suel = pd.read_csv(CSV_inf_suel_hul, encoding='utf-8', sep = \";\")\n",
    "\n",
    "# 2.2.7 Carga de archivo CSV Evaluaciones Agropecuarias entre 2019 y 2014 (EVAs 2019-2014)\n",
    "\n",
    "df_evas = pd.read_excel(CSV_EVA)\n",
    "df_evas = df_evas.rename(columns={'Código Dane municipio': 'COD_MUNI'})\n",
    "df_evas['COD_MUNI'] = df_evas['COD_MUNI'].astype(str).str.zfill(5)\n",
    "\n",
    "# 2.2.8 Cargar archivo CSV de estaciones IDEAM y convertirlo en GeoDataFrame\n",
    "df_est = pd.read_csv(CSV_EST)\n",
    "\n",
    "    # - Nombre de la columna que guarda la coordenada en formato \"(lat, lon)\"\n",
    "coord_col = \"Ubicación\"      \n",
    "\n",
    "    # --> 1. Extraer latitud y longitud como dos columnas numéricas\n",
    "coords = (\n",
    "    df_est[coord_col]\n",
    "      .str.strip(\"()\")            # quitar paréntesis\n",
    "      .str.split(\",\", expand=True)  # separar por coma\n",
    "      .apply(pd.to_numeric)         # convertir a float\n",
    ")\n",
    "df_est[\"lat\"] = coords[0]\n",
    "df_est[\"lon\"] = coords[1]\n",
    "\n",
    "    # --> 2. Crear geometría punto a partir de lon, lat (EPSG:4326)\n",
    "gdf_est = gpd.GeoDataFrame(\n",
    "    df_est,\n",
    "    geometry=gpd.points_from_xy(df_est[\"lon\"], df_est[\"lat\"]),\n",
    "    crs=\"EPSG:4326\"\n",
    ")\n",
    "\n",
    "    # --> 3. Reproyectar a EPSG:9377\n",
    "gdf_est = gdf_est.to_crs(epsg=9377)\n",
    "\n",
    "    # --> 4. Visualización\n",
    "\n",
    "print(\"Estaciones IDEAM cargadas:\", gdf_est.shape)\n",
    "display(gdf_est.head())\n",
    "print(\"Municipios:\", gdf_mun.shape)\n",
    "print(\"Red vial:\", vias_col.shape)\n",
    "print(\"EVAs:\\n\", df_evas.head())\n",
    "print(\"Inf Suelos:\\n\", df_inf_suel.head())\n"
   ]
  },
  {
   "cell_type": "markdown",
   "id": "643aac09-b21f-474d-aaed-0e6583baf435",
   "metadata": {},
   "source": [
    "#### **2.3 Preparación de los datos de Google Earth Engine:** \n",
    "* Aquí se creará la capa Shape necesaria para clipear la imagen raster que se obtendrá a partir de Google Earth Engine (GEE).\n",
    "* Se descargan las imágenes de cada raster, se realiza por grilla para optimizar el proceso.\n",
    "* También se recortará la sección de interés de los raster DEM y Clima.\n"
   ]
  },
  {
   "cell_type": "markdown",
   "id": "81e89daa-feee-40e1-bf87-19e5bd288ef1",
   "metadata": {},
   "source": [
    "##### **2.3.1 Área de Interés (aoi)**\n",
    "* Seleccionamos el área de interés que es el departamento del Huila."
   ]
  },
  {
   "cell_type": "code",
   "execution_count": null,
   "id": "61665bf4",
   "metadata": {},
   "outputs": [],
   "source": [
    "# Procesamiento espacial\n",
    "muni_suelos = gpd.overlay(gdf_mun, gdf_suelos, how=\"intersection\", keep_geom_type=False)\n",
    "aoi_geom = muni_suelos.union_all()  # geometría combinada\n",
    "aoi = gpd.GeoDataFrame(geometry=[aoi_geom], crs=muni_suelos.crs)  # convertir a GeoDataFrame"
   ]
  },
  {
   "cell_type": "markdown",
   "id": "c32eb9d5-7a42-4a96-941e-c87d79b0051d",
   "metadata": {},
   "source": [
    "##### **2.3.2 Iniciar sesión GEE y Cargar conjunto de imágenes de interés**\n",
    "* Autenticamos la sesión con Google Earth Engine\n",
    "* Inicializamos la librería\n",
    "* Se filtrarán los datos de elevación a partir del archivo DEM de _\"NASA SRTM Digital Elevation 30m\"_\n",
    "* Se filtrarán los datos de climad e la base de datos de _\"WorldClim BIO Variables V1\"_"
   ]
  },
  {
   "cell_type": "code",
   "execution_count": 5,
   "id": "135a6e4e-b482-44e8-adcf-3fc7052f20ce",
   "metadata": {},
   "outputs": [
    {
     "data": {
      "text/html": [
       "\n",
       "            <style>\n",
       "                .geemap-dark {\n",
       "                    --jp-widgets-color: white;\n",
       "                    --jp-widgets-label-color: white;\n",
       "                    --jp-ui-font-color1: white;\n",
       "                    --jp-layout-color2: #454545;\n",
       "                    background-color: #383838;\n",
       "                }\n",
       "\n",
       "                .geemap-dark .jupyter-button {\n",
       "                    --jp-layout-color3: #383838;\n",
       "                }\n",
       "\n",
       "                .geemap-colab {\n",
       "                    background-color: var(--colab-primary-surface-color, white);\n",
       "                }\n",
       "\n",
       "                .geemap-colab .jupyter-button {\n",
       "                    --jp-layout-color3: var(--colab-primary-surface-color, white);\n",
       "                }\n",
       "            </style>\n",
       "            "
      ],
      "text/plain": [
       "<IPython.core.display.HTML object>"
      ]
     },
     "metadata": {},
     "output_type": "display_data"
    },
    {
     "data": {
      "text/html": [
       "<p>To authorize access needed by Earth Engine, open the following\n",
       "        URL in a web browser and follow the instructions:</p>\n",
       "        <p><a href=https://code.earthengine.google.com/client-auth?scopes=https%3A//www.googleapis.com/auth/earthengine%20https%3A//www.googleapis.com/auth/cloud-platform%20https%3A//www.googleapis.com/auth/drive%20https%3A//www.googleapis.com/auth/devstorage.full_control&request_id=YkqgaMM2IIl9qauxTBsQPeDdMv4I4cx24QjqYzCANP4&tc=xOeU1qAgGS3U_DU5Y5BU7eCLP7sjvetrdTPflXOVbiQ&cc=OgngRc5oTCb5P24rX81M7mefYD-FVdRZCWvWra-xs-0>https://code.earthengine.google.com/client-auth?scopes=https%3A//www.googleapis.com/auth/earthengine%20https%3A//www.googleapis.com/auth/cloud-platform%20https%3A//www.googleapis.com/auth/drive%20https%3A//www.googleapis.com/auth/devstorage.full_control&request_id=YkqgaMM2IIl9qauxTBsQPeDdMv4I4cx24QjqYzCANP4&tc=xOeU1qAgGS3U_DU5Y5BU7eCLP7sjvetrdTPflXOVbiQ&cc=OgngRc5oTCb5P24rX81M7mefYD-FVdRZCWvWra-xs-0</a></p>\n",
       "        <p>The authorization workflow will generate a code, which you should paste in the box below.</p>\n",
       "        "
      ],
      "text/plain": [
       "<IPython.core.display.HTML object>"
      ]
     },
     "metadata": {},
     "output_type": "display_data"
    },
    {
     "name": "stdin",
     "output_type": "stream",
     "text": [
      "Enter verification code:  4/1AVMBsJgIeLs-wP8Zea5rJTd3RxEwn0ixc6q5nDuxZb75-k5SoWQU-OkAaZM\n"
     ]
    },
    {
     "name": "stdout",
     "output_type": "stream",
     "text": [
      "\n",
      "Successfully saved authorization token.\n"
     ]
    }
   ],
   "source": [
    "ee.Authenticate()"
   ]
  },
  {
   "cell_type": "code",
   "execution_count": 7,
   "id": "581ae494-61e0-4d35-8fdd-8e4285800a21",
   "metadata": {},
   "outputs": [
    {
     "data": {
      "text/html": [
       "\n",
       "            <style>\n",
       "                .geemap-dark {\n",
       "                    --jp-widgets-color: white;\n",
       "                    --jp-widgets-label-color: white;\n",
       "                    --jp-ui-font-color1: white;\n",
       "                    --jp-layout-color2: #454545;\n",
       "                    background-color: #383838;\n",
       "                }\n",
       "\n",
       "                .geemap-dark .jupyter-button {\n",
       "                    --jp-layout-color3: #383838;\n",
       "                }\n",
       "\n",
       "                .geemap-colab {\n",
       "                    background-color: var(--colab-primary-surface-color, white);\n",
       "                }\n",
       "\n",
       "                .geemap-colab .jupyter-button {\n",
       "                    --jp-layout-color3: var(--colab-primary-surface-color, white);\n",
       "                }\n",
       "            </style>\n",
       "            "
      ],
      "text/plain": [
       "<IPython.core.display.HTML object>"
      ]
     },
     "metadata": {},
     "output_type": "display_data"
    }
   ],
   "source": [
    "ee.Initialize()"
   ]
  },
  {
   "cell_type": "code",
   "execution_count": 8,
   "id": "30d64619-7674-4e73-b280-519a8d578acd",
   "metadata": {},
   "outputs": [
    {
     "data": {
      "text/html": [
       "\n",
       "            <style>\n",
       "                .geemap-dark {\n",
       "                    --jp-widgets-color: white;\n",
       "                    --jp-widgets-label-color: white;\n",
       "                    --jp-ui-font-color1: white;\n",
       "                    --jp-layout-color2: #454545;\n",
       "                    background-color: #383838;\n",
       "                }\n",
       "\n",
       "                .geemap-dark .jupyter-button {\n",
       "                    --jp-layout-color3: #383838;\n",
       "                }\n",
       "\n",
       "                .geemap-colab {\n",
       "                    background-color: var(--colab-primary-surface-color, white);\n",
       "                }\n",
       "\n",
       "                .geemap-colab .jupyter-button {\n",
       "                    --jp-layout-color3: var(--colab-primary-surface-color, white);\n",
       "                }\n",
       "            </style>\n",
       "            "
      ],
      "text/plain": [
       "<IPython.core.display.HTML object>"
      ]
     },
     "metadata": {},
     "output_type": "display_data"
    }
   ],
   "source": [
    "# Use the SRTM DEM (30m resolution) provided by the USGS\n",
    "dem = ee.Image(\"USGS/SRTMGL1_003\")\n",
    "\n",
    "# --  Load the CLIM and clip it to the AOI ---\n",
    "raster_clim = ee.Image(\"WORLDCLIM/V1/BIO\")\n",
    "\n",
    "#--- Convert the AOI geometry to Earth Engine format ---\n",
    "huila_wgs84 = aoi.to_crs(epsg=4326)\n",
    "huila_wgs84.to_file(\"Huila_wgs84.geojson\", driver=\"GeoJSON\")\n",
    "huila_fc = geemap.geojson_to_ee(\"Huila_wgs84.geojson\")"
   ]
  },
  {
   "cell_type": "markdown",
   "id": "17011c79-1402-45d2-b981-4e4db32f84d0",
   "metadata": {},
   "source": [
    "##### **2.3.3 Crear cuadrícula sobre el departamento del Huila: 4x4**\n",
    "* Se dividen en 16 subzonales que permitan dividir el trabajo de la descarga de las imágenes raster."
   ]
  },
  {
   "cell_type": "code",
   "execution_count": 9,
   "id": "74ac17c5-cf35-40e0-90fc-56ae42dea0d3",
   "metadata": {},
   "outputs": [
    {
     "data": {
      "text/html": [
       "\n",
       "            <style>\n",
       "                .geemap-dark {\n",
       "                    --jp-widgets-color: white;\n",
       "                    --jp-widgets-label-color: white;\n",
       "                    --jp-ui-font-color1: white;\n",
       "                    --jp-layout-color2: #454545;\n",
       "                    background-color: #383838;\n",
       "                }\n",
       "\n",
       "                .geemap-dark .jupyter-button {\n",
       "                    --jp-layout-color3: #383838;\n",
       "                }\n",
       "\n",
       "                .geemap-colab {\n",
       "                    background-color: var(--colab-primary-surface-color, white);\n",
       "                }\n",
       "\n",
       "                .geemap-colab .jupyter-button {\n",
       "                    --jp-layout-color3: var(--colab-primary-surface-color, white);\n",
       "                }\n",
       "            </style>\n",
       "            "
      ],
      "text/plain": [
       "<IPython.core.display.HTML object>"
      ]
     },
     "metadata": {},
     "output_type": "display_data"
    }
   ],
   "source": [
    "grid = geemap.fishnet(data=huila_fc, rows=4, cols=4)"
   ]
  },
  {
   "cell_type": "markdown",
   "id": "a3b0e784-c300-450e-8b6e-dbcc54036b0f",
   "metadata": {},
   "source": [
    "##### **2.3.4 Visualizar en el mapa**\n",
    "* Se dividen en 16 subzonales que permitan dividir el trabajo de la descarga de las imágenes raster."
   ]
  },
  {
   "cell_type": "code",
   "execution_count": 10,
   "id": "958e885f-69ef-4f8d-8c54-4080281eaa74",
   "metadata": {},
   "outputs": [
    {
     "data": {
      "text/html": [
       "\n",
       "            <style>\n",
       "                .geemap-dark {\n",
       "                    --jp-widgets-color: white;\n",
       "                    --jp-widgets-label-color: white;\n",
       "                    --jp-ui-font-color1: white;\n",
       "                    --jp-layout-color2: #454545;\n",
       "                    background-color: #383838;\n",
       "                }\n",
       "\n",
       "                .geemap-dark .jupyter-button {\n",
       "                    --jp-layout-color3: #383838;\n",
       "                }\n",
       "\n",
       "                .geemap-colab {\n",
       "                    background-color: var(--colab-primary-surface-color, white);\n",
       "                }\n",
       "\n",
       "                .geemap-colab .jupyter-button {\n",
       "                    --jp-layout-color3: var(--colab-primary-surface-color, white);\n",
       "                }\n",
       "            </style>\n",
       "            "
      ],
      "text/plain": [
       "<IPython.core.display.HTML object>"
      ]
     },
     "metadata": {},
     "output_type": "display_data"
    },
    {
     "data": {
      "application/vnd.jupyter.widget-view+json": {
       "model_id": "d06a0688546c47c491dd5a0890163e7f",
       "version_major": 2,
       "version_minor": 0
      },
      "text/plain": [
       "Map(center=[2.570000778222359, -75.5847144578526], controls=(WidgetControl(options=['position', 'transparent_b…"
      ]
     },
     "execution_count": 10,
     "metadata": {},
     "output_type": "execute_result"
    }
   ],
   "source": [
    "Map = geemap.Map()\n",
    "Map.addLayer(dem, {}, 'SRTM DEM')\n",
    "Map.addLayer(grid, {}, 'Grid sobre Huila')\n",
    "Map.addLayer(huila_fc, {}, 'Huila')\n",
    "Map.centerObject(huila_fc, 8)\n",
    "Map"
   ]
  },
  {
   "cell_type": "markdown",
   "id": "615a1f1d-1454-49fc-8fa4-749aad4cab93",
   "metadata": {},
   "source": [
    "##### **2.3.5 Crear función para exportar raster según celdas**\n",
    "* Aplicamos una función para filtrar imágenes del DEM.\n",
    "* También aplicamos función para filtrar imágenes de WorldClim.\n",
    "* Para cada una asignamos la tarea para GEE."
   ]
  },
  {
   "cell_type": "markdown",
   "id": "ba39e9aa-6140-432e-abed-f7ed4de19b4f",
   "metadata": {},
   "source": [
    "##### **2.3.6 Exportación de imágenes raster por celda de la cuadrícula**\n"
   ]
  },
  {
   "cell_type": "code",
   "execution_count": 12,
   "id": "323bd0b9-4906-4444-83e4-112c00347c2d",
   "metadata": {},
   "outputs": [
    {
     "data": {
      "text/html": [
       "\n",
       "            <style>\n",
       "                .geemap-dark {\n",
       "                    --jp-widgets-color: white;\n",
       "                    --jp-widgets-label-color: white;\n",
       "                    --jp-ui-font-color1: white;\n",
       "                    --jp-layout-color2: #454545;\n",
       "                    background-color: #383838;\n",
       "                }\n",
       "\n",
       "                .geemap-dark .jupyter-button {\n",
       "                    --jp-layout-color3: #383838;\n",
       "                }\n",
       "\n",
       "                .geemap-colab {\n",
       "                    background-color: var(--colab-primary-surface-color, white);\n",
       "                }\n",
       "\n",
       "                .geemap-colab .jupyter-button {\n",
       "                    --jp-layout-color3: var(--colab-primary-surface-color, white);\n",
       "                }\n",
       "            </style>\n",
       "            "
      ],
      "text/plain": [
       "<IPython.core.display.HTML object>"
      ]
     },
     "metadata": {},
     "output_type": "display_data"
    },
    {
     "name": "stdout",
     "output_type": "stream",
     "text": [
      "Exportando DEMtile0...\n",
      "Exportando DEMtile1...\n",
      "Exportando DEMtile2...\n",
      "Exportando DEMtile3...\n",
      "Exportando DEMtile4...\n",
      "Exportando DEMtile5...\n",
      "Exportando DEMtile6...\n",
      "Exportando DEMtile7...\n",
      "Exportando DEMtile8...\n",
      "Exportando DEMtile9...\n",
      "Exportando DEMtile10...\n",
      "Exportando DEMtile11...\n",
      "Exportando DEMtile12...\n"
     ]
    }
   ],
   "source": [
    "grid_list = grid.toList(grid.size())\n",
    "for i in range(grid.size().getInfo()):\n",
    "    feature = ee.Feature(grid_list.get(i))\n",
    "    export_cell(feature, i)"
   ]
  },
  {
   "cell_type": "code",
   "execution_count": 16,
   "id": "579772bf-0fce-486c-bba9-59a79b91d7d5",
   "metadata": {},
   "outputs": [
    {
     "data": {
      "text/html": [
       "\n",
       "            <style>\n",
       "                .geemap-dark {\n",
       "                    --jp-widgets-color: white;\n",
       "                    --jp-widgets-label-color: white;\n",
       "                    --jp-ui-font-color1: white;\n",
       "                    --jp-layout-color2: #454545;\n",
       "                    background-color: #383838;\n",
       "                }\n",
       "\n",
       "                .geemap-dark .jupyter-button {\n",
       "                    --jp-layout-color3: #383838;\n",
       "                }\n",
       "\n",
       "                .geemap-colab {\n",
       "                    background-color: var(--colab-primary-surface-color, white);\n",
       "                }\n",
       "\n",
       "                .geemap-colab .jupyter-button {\n",
       "                    --jp-layout-color3: var(--colab-primary-surface-color, white);\n",
       "                }\n",
       "            </style>\n",
       "            "
      ],
      "text/plain": [
       "<IPython.core.display.HTML object>"
      ]
     },
     "metadata": {},
     "output_type": "display_data"
    },
    {
     "name": "stdout",
     "output_type": "stream",
     "text": [
      "Exportando Climtile0...\n",
      "Exportando Climtile1...\n",
      "Exportando Climtile2...\n",
      "Exportando Climtile3...\n",
      "Exportando Climtile4...\n",
      "Exportando Climtile5...\n",
      "Exportando Climtile6...\n",
      "Exportando Climtile7...\n",
      "Exportando Climtile8...\n",
      "Exportando Climtile9...\n",
      "Exportando Climtile10...\n",
      "Exportando Climtile11...\n",
      "Exportando Climtile12...\n"
     ]
    }
   ],
   "source": [
    "grid_list = grid.toList(grid.size())\n",
    "for i in range(grid.size().getInfo()):\n",
    "    feature = ee.Feature(grid_list.get(i))\n",
    "    export_cell_Clim(feature, i)"
   ]
  },
  {
   "cell_type": "markdown",
   "id": "ecac58a0-aacb-48f9-98d1-c9d75b49837d",
   "metadata": {},
   "source": [
    "##### **2.3.7 Visualización del Clima en histograma**"
   ]
  },
  {
   "cell_type": "code",
   "execution_count": 193,
   "id": "a902e000-b190-4322-9c76-9be2c6b3bf67",
   "metadata": {},
   "outputs": [
    {
     "data": {
      "text/html": [
       "\n",
       "            <style>\n",
       "                .geemap-dark {\n",
       "                    --jp-widgets-color: white;\n",
       "                    --jp-widgets-label-color: white;\n",
       "                    --jp-ui-font-color1: white;\n",
       "                    --jp-layout-color2: #454545;\n",
       "                    background-color: #383838;\n",
       "                }\n",
       "\n",
       "                .geemap-dark .jupyter-button {\n",
       "                    --jp-layout-color3: #383838;\n",
       "                }\n",
       "\n",
       "                .geemap-colab {\n",
       "                    background-color: var(--colab-primary-surface-color, white);\n",
       "                }\n",
       "\n",
       "                .geemap-colab .jupyter-button {\n",
       "                    --jp-layout-color3: var(--colab-primary-surface-color, white);\n",
       "                }\n",
       "            </style>\n",
       "            "
      ],
      "text/plain": [
       "<IPython.core.display.HTML object>"
      ]
     },
     "metadata": {},
     "output_type": "display_data"
    },
    {
     "data": {
      "image/png": "[encoded data removed]",
      "text/plain": [
       "<Figure size 1400x500 with 2 Axes>"
      ]
     },
     "metadata": {},
     "output_type": "display_data"
    }
   ],
   "source": [
    "# Preprocesamiento: remover valores no finitos o nulos\n",
    "bio01_clean = bio01[np.isfinite(bio01)]\n",
    "bio01_clean = bio01_clean[bio01_clean != 0]\n",
    "\n",
    "bio12_clean = bio12[np.isfinite(bio12)]\n",
    "bio12_clean = bio12_clean[bio12_clean != 0]\n",
    "\n",
    "# Crear subplots\n",
    "fig, axs = plt.subplots(1, 2, figsize=(14, 5))\n",
    "\n",
    "# Histograma bio01\n",
    "axs[0].hist(bio01_clean.flatten(), bins=50, color='tomato', edgecolor='black')\n",
    "axs[0].set_title(\"Histograma de Temperatura Media Anual (bio01)\")\n",
    "axs[0].set_xlabel(\"°C\")\n",
    "axs[0].set_ylabel(\"Frecuencia\")\n",
    "axs[0].grid(True)\n",
    "\n",
    "# Histograma bio12\n",
    "axs[1].hist(bio12_clean.flatten(), bins=50, color='royalblue', edgecolor='black')\n",
    "axs[1].set_title(\"Histograma de Precipitación Anual Total (bio12)\")\n",
    "axs[1].set_xlabel(\"mm\")\n",
    "axs[1].set_ylabel(\"Frecuencia\")\n",
    "axs[1].grid(True)\n",
    "\n",
    "plt.tight_layout()\n",
    "plt.savefig(\"Results/Charts/Histogramas_Temp_Preci.png\", dpi=300, bbox_inches='tight')\n",
    "plt.show()"
   ]
  },
  {
   "cell_type": "markdown",
   "id": "057ce071-073f-42f3-9962-7dc362ec915c",
   "metadata": {},
   "source": [
    "### **3. Ranking de departamentos importantes para Café** 📊\n",
    "* Se analizarán la producción, rendimiento y área de siembra de Café, para identificar los departamentos más importantes para éste cultivo\n",
    "\n",
    "#### **3.1 Filtro para Café**\n",
    "* Creación de un nuevo DataFrame (cafe_eva) que contiene los datos para el cultivo de café para el año 2023."
   ]
  },
  {
   "cell_type": "code",
   "execution_count": 20,
   "id": "6fd26c39-ede2-4514-a069-cfb1d4e21c22",
   "metadata": {},
   "outputs": [
    {
     "data": {
      "text/html": [
       "\n",
       "            <style>\n",
       "                .geemap-dark {\n",
       "                    --jp-widgets-color: white;\n",
       "                    --jp-widgets-label-color: white;\n",
       "                    --jp-ui-font-color1: white;\n",
       "                    --jp-layout-color2: #454545;\n",
       "                    background-color: #383838;\n",
       "                }\n",
       "\n",
       "                .geemap-dark .jupyter-button {\n",
       "                    --jp-layout-color3: #383838;\n",
       "                }\n",
       "\n",
       "                .geemap-colab {\n",
       "                    background-color: var(--colab-primary-surface-color, white);\n",
       "                }\n",
       "\n",
       "                .geemap-colab .jupyter-button {\n",
       "                    --jp-layout-color3: var(--colab-primary-surface-color, white);\n",
       "                }\n",
       "            </style>\n",
       "            "
      ],
      "text/plain": [
       "<IPython.core.display.HTML object>"
      ]
     },
     "metadata": {},
     "output_type": "display_data"
    },
    {
     "name": "stdout",
     "output_type": "stream",
     "text": [
      "Primeros 5 datos EVAs Café 2023:\n",
      "      Código Dane departamento Departamento COD_MUNI   Municipio  \\\n",
      "60                          5    Antioquia    05001    Medellín   \n",
      "428                         5    Antioquia    05004    Abriaquí   \n",
      "598                         5    Antioquia    05021  Alejandría   \n",
      "698                         5    Antioquia    05030       Amagá   \n",
      "806                         5    Antioquia    05031      Amalfi   \n",
      "\n",
      "    Desagregación cultivo Cultivo Ciclo del cultivo  \\\n",
      "60                   Café    Café        Permanente   \n",
      "428                  Café    Café        Permanente   \n",
      "598                  Café    Café        Permanente   \n",
      "698                  Café    Café        Permanente   \n",
      "806                  Café    Café        Permanente   \n",
      "\n",
      "                         Grupo cultivo                           Subgrupo  \\\n",
      "60   Cultivos tropicales tradicionales  Cultivos tropicales tradicionales   \n",
      "428  Cultivos tropicales tradicionales  Cultivos tropicales tradicionales   \n",
      "598  Cultivos tropicales tradicionales  Cultivos tropicales tradicionales   \n",
      "698  Cultivos tropicales tradicionales  Cultivos tropicales tradicionales   \n",
      "806  Cultivos tropicales tradicionales  Cultivos tropicales tradicionales   \n",
      "\n",
      "      Año Periodo  Área sembrada (ha)  Área cosechada (ha)  Producción (t)  \\\n",
      "60   2023    2023              368.73               335.26          238.66   \n",
      "428  2023    2023              115.97               102.33          178.09   \n",
      "598  2023    2023              528.28               457.14          568.42   \n",
      "698  2023    2023              481.69               424.50          622.20   \n",
      "806  2023    2023             1669.23              1410.79          939.97   \n",
      "\n",
      "     Rendimiento (t/ha) Nombre científico del cultivo  Código del cultivo  \\\n",
      "60                 0.71                Coffea arabica             2030300   \n",
      "428                1.74                Coffea arabica             2030300   \n",
      "598                1.24                Coffea arabica             2030300   \n",
      "698                1.47                Coffea arabica             2030300   \n",
      "806                0.67                Coffea arabica             2030300   \n",
      "\n",
      "      Estado físico del cultivo  \n",
      "60   Pergamino o seco de trilla  \n",
      "428  Pergamino o seco de trilla  \n",
      "598  Pergamino o seco de trilla  \n",
      "698  Pergamino o seco de trilla  \n",
      "806  Pergamino o seco de trilla  \n",
      "\n",
      "Tipos de datos EVAs Café 2023:\n",
      " Código Dane departamento           int64\n",
      "Departamento                      object\n",
      "COD_MUNI                          object\n",
      "Municipio                         object\n",
      "Desagregación cultivo             object\n",
      "Cultivo                           object\n",
      "Ciclo del cultivo                 object\n",
      "Grupo cultivo                     object\n",
      "Subgrupo                          object\n",
      "Año                                int64\n",
      "Periodo                           object\n",
      "Área sembrada (ha)               float64\n",
      "Área cosechada (ha)              float64\n",
      "Producción (t)                   float64\n",
      "Rendimiento (t/ha)               float64\n",
      "Nombre científico del cultivo     object\n",
      "Código del cultivo                 int64\n",
      "Estado físico del cultivo         object\n",
      "dtype: object\n"
     ]
    }
   ],
   "source": [
    "# Filtro de datos para cultivo de café.\n",
    "cafe_eva = (df_evas.query('Cultivo == \"Café\" & Año == 2023').copy())\n",
    "print(\"Primeros 5 datos EVAs Café 2023:\\n\" ,cafe_eva.head())\n",
    "print(\"\\nTipos de datos EVAs Café 2023:\\n\" ,cafe_eva.dtypes)"
   ]
  },
  {
   "cell_type": "markdown",
   "id": "4a89748f-255c-4baa-8110-f7fdef78d2c0",
   "metadata": {},
   "source": [
    "#### **3.2 Agrupación de 3 parámetros a analizar**  \n",
    "Seleccionamos tres distintos parámetros por departamento en un sólo DataFrame, para determinar cuáles son los más importantes:\n",
    " - Área sembrada (ha). -> suma\n",
    " - Producción (t). -> suma\n",
    " - Rendimiento (t/ha). -> promedio\n",
    "   \n",
    "**Nota:** Dado que ya se había filtrado por cultivo y por año se suman los primeros parámetros para sacar el total, para el rendimiento se hace un promedio ya que se necesita un valor general del departamento, no es un parámetro que se sume para este análisis."
   ]
  },
  {
   "cell_type": "code",
   "execution_count": 21,
   "id": "b30ae72a-d040-4c7b-b234-46b8daf1b6cb",
   "metadata": {},
   "outputs": [
    {
     "data": {
      "text/html": [
       "\n",
       "            <style>\n",
       "                .geemap-dark {\n",
       "                    --jp-widgets-color: white;\n",
       "                    --jp-widgets-label-color: white;\n",
       "                    --jp-ui-font-color1: white;\n",
       "                    --jp-layout-color2: #454545;\n",
       "                    background-color: #383838;\n",
       "                }\n",
       "\n",
       "                .geemap-dark .jupyter-button {\n",
       "                    --jp-layout-color3: #383838;\n",
       "                }\n",
       "\n",
       "                .geemap-colab {\n",
       "                    background-color: var(--colab-primary-surface-color, white);\n",
       "                }\n",
       "\n",
       "                .geemap-colab .jupyter-button {\n",
       "                    --jp-layout-color3: var(--colab-primary-surface-color, white);\n",
       "                }\n",
       "            </style>\n",
       "            "
      ],
      "text/plain": [
       "<IPython.core.display.HTML object>"
      ]
     },
     "metadata": {},
     "output_type": "display_data"
    },
    {
     "name": "stdout",
     "output_type": "stream",
     "text": [
      "Número de filas: 638\n"
     ]
    },
    {
     "data": {
      "text/html": [
       "<div>\n",
       "<style scoped>\n",
       "    .dataframe tbody tr th:only-of-type {\n",
       "        vertical-align: middle;\n",
       "    }\n",
       "\n",
       "    .dataframe tbody tr th {\n",
       "        vertical-align: top;\n",
       "    }\n",
       "\n",
       "    .dataframe thead th {\n",
       "        text-align: right;\n",
       "    }\n",
       "</style>\n",
       "<table border=\"1\" class=\"dataframe\">\n",
       "  <thead>\n",
       "    <tr style=\"text-align: right;\">\n",
       "      <th></th>\n",
       "      <th>Departamento</th>\n",
       "      <th>Área sembrada (ha)</th>\n",
       "      <th>Producción (t)</th>\n",
       "      <th>Rendimiento (t/ha)</th>\n",
       "    </tr>\n",
       "  </thead>\n",
       "  <tbody>\n",
       "    <tr>\n",
       "      <th>12</th>\n",
       "      <td>Huila</td>\n",
       "      <td>147991.64</td>\n",
       "      <td>142524.31</td>\n",
       "      <td>1.099143</td>\n",
       "    </tr>\n",
       "    <tr>\n",
       "      <th>0</th>\n",
       "      <td>Antioquia</td>\n",
       "      <td>108760.73</td>\n",
       "      <td>95239.75</td>\n",
       "      <td>1.072581</td>\n",
       "    </tr>\n",
       "    <tr>\n",
       "      <th>23</th>\n",
       "      <td>Tolima</td>\n",
       "      <td>106837.22</td>\n",
       "      <td>75099.17</td>\n",
       "      <td>0.803421</td>\n",
       "    </tr>\n",
       "    <tr>\n",
       "      <th>7</th>\n",
       "      <td>Cauca</td>\n",
       "      <td>94873.60</td>\n",
       "      <td>83603.57</td>\n",
       "      <td>0.979412</td>\n",
       "    </tr>\n",
       "    <tr>\n",
       "      <th>4</th>\n",
       "      <td>Caldas</td>\n",
       "      <td>58200.39</td>\n",
       "      <td>50209.35</td>\n",
       "      <td>1.112400</td>\n",
       "    </tr>\n",
       "  </tbody>\n",
       "</table>\n",
       "</div>"
      ],
      "text/plain": [
       "   Departamento  Área sembrada (ha)  Producción (t)  Rendimiento (t/ha)\n",
       "12        Huila           147991.64       142524.31            1.099143\n",
       "0     Antioquia           108760.73        95239.75            1.072581\n",
       "23       Tolima           106837.22        75099.17            0.803421\n",
       "7         Cauca            94873.60        83603.57            0.979412\n",
       "4        Caldas            58200.39        50209.35            1.112400"
      ]
     },
     "execution_count": 21,
     "metadata": {},
     "output_type": "execute_result"
    }
   ],
   "source": [
    "print(\"Número de filas:\", cafe_eva.shape[0])\n",
    "cafe_dep = cafe_eva.groupby(\"Departamento\").agg({\n",
    "    \"Área sembrada (ha)\": \"sum\",\n",
    "    \"Producción (t)\": \"sum\",\n",
    "    \"Rendimiento (t/ha)\": \"mean\"\n",
    "}).reset_index()\n",
    "\n",
    "cafe_dep.head(32)\n",
    "top_10_area = cafe_dep.sort_values(by='Área sembrada (ha)', ascending=False).head(10)\n",
    "top_10_pro = cafe_dep.sort_values(by='Producción (t)', ascending=False).head(10)\n",
    "top_10_rend = cafe_dep.sort_values(by='Rendimiento (t/ha)', ascending=False).head(10)\n",
    "top_10_area.head()"
   ]
  },
  {
   "cell_type": "markdown",
   "id": "8ae8bf43-be8a-434a-a84a-f8b4771be21a",
   "metadata": {},
   "source": [
    "#### **3.3 Comparación de Variables**  \n",
    "* Elaboramos 3 gráficos de barras diferentes por variable, para analizar los departamentos más importantes para el café.\n",
    "* El departamento seleccionado es huila, debido que aunque sea de mayor área y mayor producción, apenas es el quinto departamento con mayor rendimiento, lo que brinda una oportunidad de análisis para estudiar áreas que tengan mejores condiciones para aumentar dicho rendimiento."
   ]
  },
  {
   "cell_type": "code",
   "execution_count": 194,
   "id": "6ee6fd5b-3ad3-4f5d-8ee7-baaec9a4cc60",
   "metadata": {},
   "outputs": [
    {
     "data": {
      "text/html": [
       "\n",
       "            <style>\n",
       "                .geemap-dark {\n",
       "                    --jp-widgets-color: white;\n",
       "                    --jp-widgets-label-color: white;\n",
       "                    --jp-ui-font-color1: white;\n",
       "                    --jp-layout-color2: #454545;\n",
       "                    background-color: #383838;\n",
       "                }\n",
       "\n",
       "                .geemap-dark .jupyter-button {\n",
       "                    --jp-layout-color3: #383838;\n",
       "                }\n",
       "\n",
       "                .geemap-colab {\n",
       "                    background-color: var(--colab-primary-surface-color, white);\n",
       "                }\n",
       "\n",
       "                .geemap-colab .jupyter-button {\n",
       "                    --jp-layout-color3: var(--colab-primary-surface-color, white);\n",
       "                }\n",
       "            </style>\n",
       "            "
      ],
      "text/plain": [
       "<IPython.core.display.HTML object>"
      ]
     },
     "metadata": {},
     "output_type": "display_data"
    },
    {
     "data": {
      "image/png": "[encoded data removed]",
      "text/plain": [
       "<Figure size 2000x800 with 3 Axes>"
      ]
     },
     "metadata": {},
     "output_type": "display_data"
    }
   ],
   "source": [
    "# Crear subgráficos\n",
    "fig, axes = plt.subplots(nrows=1, ncols=3, figsize=(20, 8), sharey=False)\n",
    "\n",
    "# Colores opcionales\n",
    "colors = plt.cm.viridis(range(10))\n",
    "\n",
    "# Gráfico 1: Área sembrada\n",
    "axes[0].barh(top_10_area[\"Departamento\"], top_10_area[\"Área sembrada (ha)\"], color=colors)\n",
    "axes[0].set_title(\"Área sembrada (ha)\")\n",
    "axes[0].invert_yaxis()  # Para que el primer lugar quede arriba\n",
    "\n",
    "# Gráfico 2: Producción\n",
    "axes[1].barh(top_10_pro[\"Departamento\"], top_10_pro[\"Producción (t)\"], color=colors)\n",
    "axes[1].set_title(\"Producción (t)\")\n",
    "axes[1].invert_yaxis()\n",
    "\n",
    "# Gráfico 3: Rendimiento\n",
    "axes[2].barh(top_10_rend[\"Departamento\"], top_10_rend[\"Rendimiento (t/ha)\"], color=colors)\n",
    "axes[2].set_title(\"Rendimiento (t/ha)\")\n",
    "axes[2].invert_yaxis()\n",
    "\n",
    "# Ajustar diseño\n",
    "plt.tight_layout()\n",
    "plt.savefig(\"Results/Charts/Top10_Departamentos.png\", dpi=300, bbox_inches='tight')\n",
    "plt.show()"
   ]
  },
  {
   "cell_type": "code",
   "execution_count": null,
   "id": "392071aa-0887-44c7-a131-9cf079d224b1",
   "metadata": {},
   "outputs": [],
   "source": []
  }
 ],
 "metadata": {
  "kernelspec": {
   "display_name": "Python 3 (ipykernel)",
   "language": "python",
   "name": "python3"
  },
  "language_info": {
   "codemirror_mode": {
    "name": "ipython",
    "version": 3
   },
   "file_extension": ".py",
   "mimetype": "text/x-python",
   "name": "python",
   "nbconvert_exporter": "python",
   "pygments_lexer": "ipython3",
   "version": "3.11.5"
  }
 },
 "nbformat": 4,
 "nbformat_minor": 5
}
